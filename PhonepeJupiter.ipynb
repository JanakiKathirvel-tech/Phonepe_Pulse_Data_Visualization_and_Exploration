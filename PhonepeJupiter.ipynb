{
 "cells": [
  {
   "cell_type": "code",
   "execution_count": 26,
   "metadata": {},
   "outputs": [],
   "source": [
    "import os\n",
    "import json\n",
    "import pandas as pd"
   ]
  },
  {
   "cell_type": "code",
   "execution_count": 30,
   "metadata": {},
   "outputs": [],
   "source": [
    "# aggree-tranaction\n",
    "aggr_tran_path = \"E:/repos/Phonepe_Pulse_Data_Visualization_and_Exploration/pulse/data/aggregated/transaction/country/india/state/\"\n",
    "aggr_tran_list = os.listdir(aggr_tran_path)\n",
    "\n",
    "columns_dict = {\"States\":[], \"Years\":[], \"Quarters\":[], \"Transaction_type\":[], \"Transaction_count\": [], \"Transaction_amount\": [] }\n",
    "for state in aggr_tran_list:\n",
    "    cur_state = aggr_tran_path + state +\"/\"\n",
    "    agg_year_list = os.listdir(cur_state)\n",
    "    \n",
    "    for year in agg_year_list:\n",
    "        cur_year = cur_state + year + \"/\"\n",
    "        agg_file_list = os.listdir(cur_year)\n",
    "\n",
    "        for file in agg_file_list:\n",
    "            cur_file = cur_year + file \n",
    "            data = open(cur_file, \"r\")\n",
    "\n",
    "            aggre_tran_Data =json.load(data)\n",
    "\n",
    "            for i in aggre_tran_Data[\"data\"][\"transactionData\"]:\n",
    "                name= i[\"name\"]\n",
    "                count = i[\"paymentInstruments\"][0][\"count\"]\n",
    "                amount = i[\"paymentInstruments\"][0][\"amount\"]\n",
    "                columns_dict[\"Transaction_type\"].append(name)\n",
    "                columns_dict[\"Transaction_count\"].append(count)\n",
    "                columns_dict[\"Transaction_amount\"].append(amount)\n",
    "                columns_dict[\"States\"].append(state)\n",
    "                columns_dict[\"Years\"].append(year)\n",
    "                columns_dict[\"Quarters\"].append(int(file.strip(\".json\")))\n",
    "        \n"
   ]
  },
  {
   "cell_type": "code",
   "execution_count": 31,
   "metadata": {},
   "outputs": [],
   "source": [
    "aggre_Transaction = pd.DataFrame(columns_dict)"
   ]
  },
  {
   "cell_type": "code",
   "execution_count": 36,
   "metadata": {},
   "outputs": [],
   "source": [
    "#aggre_Users\n",
    "\n",
    "aggre_user_path = \"E:/repos/Phonepe_Pulse_Data_Visualization_and_Exploration/pulse/data/aggregated/user/country/india/state/\"\n",
    "aggr_user_list = os.listdir(aggre_user_path)\n",
    "\n",
    "user_columns_dict = {\"States\":[], \"Years\":[], \"Quarters\":[], \"Brands\":[], \"Transaction_count\": [], \"Transaction_amount\": [], \"Percentage\": [] }\n",
    "for state in aggr_user_list:\n",
    "    cur_state = aggre_user_path + state +\"/\"\n",
    "    agg_year_list = os.listdir(cur_state)\n",
    "    \n",
    "    for year in agg_year_list:\n",
    "        cur_year = cur_state + year + \"/\"\n",
    "        agg_file_list = os.listdir(cur_year)\n",
    "\n",
    "        for file in agg_file_list:\n",
    "            cur_file = cur_year + file \n",
    "            data = open(cur_file, \"r\")\n",
    "\n",
    "            aggre_user_Data =json.load(data)"
   ]
  },
  {
   "cell_type": "code",
   "execution_count": 38,
   "metadata": {},
   "outputs": [],
   "source": [
    "for i in aggre_user_Data[\"data\"][\"usersByDevice\"]:\n",
    "    brand=i[brand]\n",
    "    count=i[count]\n",
    "    percentage=i[percentage]\n",
    "    user_columns_dict[\"Brands\"].append(brand)\n",
    "    user_columns_dict[\"Transaction_count\"].append(count)\n",
    "    user_columns_dict[\"Percentage\"].append(percentage)\n",
    "    user_columns_dict[\"States\"].append(state)\n",
    "      user_columns_dict[\"Years\"].append(year)\n",
    "                user_columns_dict[\"Quarters\"].append(int(file.strip(\".json\")))\n",
    "\n"
   ]
  }
 ],
 "metadata": {
  "kernelspec": {
   "display_name": "Python 3",
   "language": "python",
   "name": "python3"
  },
  "language_info": {
   "codemirror_mode": {
    "name": "ipython",
    "version": 3
   },
   "file_extension": ".py",
   "mimetype": "text/x-python",
   "name": "python",
   "nbconvert_exporter": "python",
   "pygments_lexer": "ipython3",
   "version": "3.12.5"
  }
 },
 "nbformat": 4,
 "nbformat_minor": 2
}
